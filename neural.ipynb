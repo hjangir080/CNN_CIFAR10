{
  "nbformat": 4,
  "nbformat_minor": 0,
  "metadata": {
    "colab": {
      "provenance": [],
      "gpuType": "T4",
      "authorship_tag": "ABX9TyMRp7mcYb4bt7Y1efjHkdEq",
      "include_colab_link": true
    },
    "kernelspec": {
      "name": "python3",
      "display_name": "Python 3"
    },
    "language_info": {
      "name": "python"
    },
    "accelerator": "GPU"
  },
  "cells": [
    {
      "cell_type": "markdown",
      "metadata": {
        "id": "view-in-github",
        "colab_type": "text"
      },
      "source": [
        "<a href=\"https://colab.research.google.com/github/hjangir080/CNN_CIFAR10/blob/main/neural.ipynb\" target=\"_parent\"><img src=\"https://colab.research.google.com/assets/colab-badge.svg\" alt=\"Open In Colab\"/></a>"
      ]
    },
    {
      "cell_type": "code",
      "source": [
        "!pip install tensorflow"
      ],
      "metadata": {
        "id": "cI_2p1_3oBCP"
      },
      "execution_count": null,
      "outputs": []
    },
    {
      "cell_type": "code",
      "execution_count": null,
      "metadata": {
        "id": "MrsY_UR5ngfP"
      },
      "outputs": [],
      "source": [
        "import tensorflow as tf\n",
        "from tensorflow.keras import datasets, layers, models\n",
        "import matplotlib.pyplot as plt\n",
        "import numpy as np"
      ]
    },
    {
      "cell_type": "code",
      "source": [
        "(x_train, y_train), (x_test,y_test) = datasets.cifar10.load_data()"
      ],
      "metadata": {
        "id": "8axfFmC2nvhf"
      },
      "execution_count": null,
      "outputs": []
    },
    {
      "cell_type": "code",
      "source": [
        "x_train.shape"
      ],
      "metadata": {
        "colab": {
          "base_uri": "https://localhost:8080/"
        },
        "id": "0pz10SC9oLsS",
        "outputId": "1dc58156-8ee6-42db-83dd-8f14036a9a00"
      },
      "execution_count": null,
      "outputs": [
        {
          "output_type": "execute_result",
          "data": {
            "text/plain": [
              "(50000, 32, 32, 3)"
            ]
          },
          "metadata": {},
          "execution_count": 44
        }
      ]
    },
    {
      "cell_type": "code",
      "source": [
        "x_test.shape"
      ],
      "metadata": {
        "colab": {
          "base_uri": "https://localhost:8080/"
        },
        "id": "oqgDhDvwoOdf",
        "outputId": "8f45d672-a294-496b-e650-6142733a08dd"
      },
      "execution_count": null,
      "outputs": [
        {
          "output_type": "execute_result",
          "data": {
            "text/plain": [
              "(10000, 32, 32, 3)"
            ]
          },
          "metadata": {},
          "execution_count": 45
        }
      ]
    },
    {
      "cell_type": "code",
      "source": [
        "y_train.shape"
      ],
      "metadata": {
        "colab": {
          "base_uri": "https://localhost:8080/"
        },
        "id": "kVZJIKovoXuf",
        "outputId": "cb8b7bd9-9e79-4203-f043-59e219c652eb"
      },
      "execution_count": null,
      "outputs": [
        {
          "output_type": "execute_result",
          "data": {
            "text/plain": [
              "(50000, 1)"
            ]
          },
          "metadata": {},
          "execution_count": 46
        }
      ]
    },
    {
      "cell_type": "code",
      "source": [
        "y_test.shape"
      ],
      "metadata": {
        "colab": {
          "base_uri": "https://localhost:8080/"
        },
        "id": "2Kr8cJS2oRlw",
        "outputId": "e80b2e5a-3978-4401-f3fc-150c1cc7eded"
      },
      "execution_count": null,
      "outputs": [
        {
          "output_type": "execute_result",
          "data": {
            "text/plain": [
              "(10000, 1)"
            ]
          },
          "metadata": {},
          "execution_count": 47
        }
      ]
    },
    {
      "cell_type": "code",
      "source": [
        "y_train[:5]"
      ],
      "metadata": {
        "colab": {
          "base_uri": "https://localhost:8080/"
        },
        "id": "G4cZWW0yoafh",
        "outputId": "da20e1c7-811f-45fb-e0aa-f1239cb62ed2"
      },
      "execution_count": null,
      "outputs": [
        {
          "output_type": "execute_result",
          "data": {
            "text/plain": [
              "array([[6],\n",
              "       [9],\n",
              "       [9],\n",
              "       [4],\n",
              "       [1]], dtype=uint8)"
            ]
          },
          "metadata": {},
          "execution_count": 48
        }
      ]
    },
    {
      "cell_type": "code",
      "source": [
        "#reshape to flatten the 2d array into 1d\n",
        "y_train = y_train.reshape(-1,)\n",
        "y_train[:5]"
      ],
      "metadata": {
        "colab": {
          "base_uri": "https://localhost:8080/"
        },
        "id": "QUJRsgXapAjw",
        "outputId": "deff07b4-bbba-4612-8ae2-eac0022aec01"
      },
      "execution_count": null,
      "outputs": [
        {
          "output_type": "execute_result",
          "data": {
            "text/plain": [
              "array([6, 9, 9, 4, 1], dtype=uint8)"
            ]
          },
          "metadata": {},
          "execution_count": 49
        }
      ]
    },
    {
      "cell_type": "code",
      "source": [
        "#repeat for test also\n",
        "y_test = y_test.reshape(-1,)"
      ],
      "metadata": {
        "id": "jroEFEytpDLO"
      },
      "execution_count": null,
      "outputs": []
    },
    {
      "cell_type": "code",
      "source": [
        "classes = [\"airplane\",\"automobile\",\"bird\",\"cat\",\"deer\",\"dog\",\"frog\",\"horse\",\"ship\",\"truck\"]"
      ],
      "metadata": {
        "id": "vgRzLicspMdO"
      },
      "execution_count": null,
      "outputs": []
    },
    {
      "cell_type": "code",
      "source": [
        "plt.figure(figsize=(1.5,2))\n",
        "plt.imshow(x_train[1])"
      ],
      "metadata": {
        "colab": {
          "base_uri": "https://localhost:8080/",
          "height": 197
        },
        "id": "pVE14-QkpO7q",
        "outputId": "1af2b659-cd95-4159-d548-5fbbcc548c5d"
      },
      "execution_count": null,
      "outputs": [
        {
          "output_type": "execute_result",
          "data": {
            "text/plain": [
              "<matplotlib.image.AxesImage at 0x7cf2f27721d0>"
            ]
          },
          "metadata": {},
          "execution_count": 52
        },
        {
          "output_type": "display_data",
          "data": {
            "text/plain": [
              "<Figure size 150x200 with 1 Axes>"
            ],
            "image/png": "[encoded data removed]"
          },
          "metadata": {}
        }
      ]
    },
    {
      "cell_type": "code",
      "source": [
        "#bcz we flattened out the array and thus can access each category using y[index]\n",
        "def plot_sample(x, y, index):\n",
        "    plt.figure(figsize = (1.5,2))\n",
        "    plt.imshow(x[index])\n",
        "    plt.xlabel(classes[y[index]])"
      ],
      "metadata": {
        "id": "A6jz5GB4pbCq"
      },
      "execution_count": null,
      "outputs": []
    },
    {
      "cell_type": "code",
      "source": [
        "plot_sample(x_train, y_train, 3)"
      ],
      "metadata": {
        "colab": {
          "base_uri": "https://localhost:8080/",
          "height": 200
        },
        "id": "6EYwKVLSpvKP",
        "outputId": "78de36f8-fa88-4bcd-dd2d-ebfd18d1ea99"
      },
      "execution_count": null,
      "outputs": [
        {
          "output_type": "display_data",
          "data": {
            "text/plain": [
              "<Figure size 150x200 with 1 Axes>"
            ],
            "image/png": "[encoded data removed]"
          },
          "metadata": {}
        }
      ]
    },
    {
      "cell_type": "code",
      "source": [
        "plot_sample(x_train, y_train, 0)"
      ],
      "metadata": {
        "colab": {
          "base_uri": "https://localhost:8080/",
          "height": 200
        },
        "id": "vINPaI0HpyWk",
        "outputId": "f614afcd-b171-45e6-e34d-be94628ff654"
      },
      "execution_count": null,
      "outputs": [
        {
          "output_type": "display_data",
          "data": {
            "text/plain": [
              "<Figure size 150x200 with 1 Axes>"
            ],
            "image/png": "[encoded data removed]"
          },
          "metadata": {}
        }
      ]
    },
    {
      "cell_type": "code",
      "source": [
        "#normalize data as rgb values are in the range of 255\n",
        "x_train = x_train / 255.0\n",
        "x_test = x_test / 255.0"
      ],
      "metadata": {
        "id": "MaJ2d3KPqPbh"
      },
      "execution_count": null,
      "outputs": []
    },
    {
      "cell_type": "code",
      "source": [
        "#create the nn with relu and softmax\n",
        "ann1 = models.Sequential([\n",
        "        layers.Flatten(input_shape=(32,32,3)),#make image into a 1d array\n",
        "        layers.Dense(3000, activation='relu'),\n",
        "        layers.Dense(1000, activation='relu'),\n",
        "        layers.Dense(10, activation='sigmoid')\n",
        "    ])\n",
        "\n",
        "ann1.compile(optimizer='SGD',#stochastic gradient descent\n",
        "              loss='sparse_categorical_crossentropy',#use this as y is only a value and not array with 1 hot encoding, if it was wouldve used only categorical_crossentropy\n",
        "              metrics=['accuracy'])\n",
        "\n",
        "ann1.fit(x_train, y_train, epochs=10)"
      ],
      "metadata": {
        "colab": {
          "base_uri": "https://localhost:8080/"
        },
        "id": "jiR7GEaGst8z",
        "outputId": "4bad1d98-f85b-473d-a3b8-757f9124d6e3"
      },
      "execution_count": null,
      "outputs": [
        {
          "output_type": "stream",
          "name": "stdout",
          "text": [
            "Epoch 1/10\n",
            "1563/1563 [==============================] - 14s 8ms/step - loss: 1.8124 - accuracy: 0.3543\n",
            "Epoch 2/10\n",
            "1563/1563 [==============================] - 10s 6ms/step - loss: 1.6230 - accuracy: 0.4258\n",
            "Epoch 3/10\n",
            "1563/1563 [==============================] - 7s 4ms/step - loss: 1.5383 - accuracy: 0.4569\n",
            "Epoch 4/10\n",
            "1563/1563 [==============================] - 7s 5ms/step - loss: 1.4764 - accuracy: 0.4820\n",
            "Epoch 5/10\n",
            "1563/1563 [==============================] - 7s 4ms/step - loss: 1.4285 - accuracy: 0.4978\n",
            "Epoch 6/10\n",
            "1563/1563 [==============================] - 7s 5ms/step - loss: 1.3820 - accuracy: 0.5149\n",
            "Epoch 7/10\n",
            "1563/1563 [==============================] - 7s 5ms/step - loss: 1.3447 - accuracy: 0.5287\n",
            "Epoch 8/10\n",
            "1563/1563 [==============================] - 7s 5ms/step - loss: 1.3104 - accuracy: 0.5400\n",
            "Epoch 9/10\n",
            "1563/1563 [==============================] - 7s 5ms/step - loss: 1.2788 - accuracy: 0.5501\n",
            "Epoch 10/10\n",
            "1563/1563 [==============================] - 8s 5ms/step - loss: 1.2489 - accuracy: 0.5622\n"
          ]
        },
        {
          "output_type": "execute_result",
          "data": {
            "text/plain": [
              "<keras.src.callbacks.History at 0x7cf3d4ba74c0>"
            ]
          },
          "metadata": {},
          "execution_count": 57
        }
      ]
    },
    {
      "cell_type": "code",
      "source": [
        "from sklearn.metrics import confusion_matrix , classification_report\n",
        "import numpy as np\n",
        "y_pred1 = ann1.predict(x_test)\n",
        "y_pred_classes1 = [np.argmax(element) for element in y_pred1]\n",
        "\n",
        "print(\"Classification Report: \\n\", classification_report(y_test, y_pred_classes1))"
      ],
      "metadata": {
        "colab": {
          "base_uri": "https://localhost:8080/"
        },
        "id": "cVW3dq8Fs89S",
        "outputId": "b219c14c-4bcf-4a95-bc58-94b3b0301229"
      },
      "execution_count": null,
      "outputs": [
        {
          "output_type": "stream",
          "name": "stdout",
          "text": [
            "313/313 [==============================] - 1s 2ms/step\n",
            "Classification Report: \n",
            "               precision    recall  f1-score   support\n",
            "\n",
            "           0       0.58      0.61      0.59      1000\n",
            "           1       0.67      0.63      0.65      1000\n",
            "           2       0.40      0.37      0.39      1000\n",
            "           3       0.36      0.32      0.34      1000\n",
            "           4       0.64      0.21      0.31      1000\n",
            "           5       0.46      0.40      0.43      1000\n",
            "           6       0.41      0.81      0.54      1000\n",
            "           7       0.55      0.62      0.59      1000\n",
            "           8       0.66      0.62      0.64      1000\n",
            "           9       0.62      0.58      0.60      1000\n",
            "\n",
            "    accuracy                           0.52     10000\n",
            "   macro avg       0.54      0.52      0.51     10000\n",
            "weighted avg       0.54      0.52      0.51     10000\n",
            "\n"
          ]
        }
      ]
    },
    {
      "cell_type": "code",
      "source": [
        "ann1.evaluate(x_test,y_test)"
      ],
      "metadata": {
        "colab": {
          "base_uri": "https://localhost:8080/"
        },
        "id": "fRCU-BMa_Ks4",
        "outputId": "54c9a644-2dc8-480a-80ec-824c9ea7ce16"
      },
      "execution_count": null,
      "outputs": [
        {
          "output_type": "stream",
          "name": "stdout",
          "text": [
            "313/313 [==============================] - 1s 3ms/step - loss: 1.3596 - accuracy: 0.5176\n"
          ]
        },
        {
          "output_type": "execute_result",
          "data": {
            "text/plain": [
              "[1.359634518623352, 0.5175999999046326]"
            ]
          },
          "metadata": {},
          "execution_count": 59
        }
      ]
    },
    {
      "cell_type": "code",
      "source": [
        "#create the nn with relu and softmax\n",
        "ann2 = models.Sequential([\n",
        "        layers.Flatten(input_shape=(32,32,3)),#make image into a 1d array\n",
        "        layers.Dense(3000, activation='relu'),\n",
        "        layers.Dense(1000, activation='relu'),\n",
        "        layers.Dense(10, activation='softmax')  #works better than sigmoid as it normalizes\n",
        "    ])\n",
        "\n",
        "ann2.compile(optimizer='SGD',\n",
        "              loss='sparse_categorical_crossentropy',#use this as y is only a value and not array with 1 hot encoding, if it was wouldve used only categorical_crossentropy\n",
        "              metrics=['accuracy'])\n",
        "\n",
        "ann2.fit(x_train, y_train, epochs=10)"
      ],
      "metadata": {
        "colab": {
          "base_uri": "https://localhost:8080/"
        },
        "id": "oTCGwiGhqYFx",
        "outputId": "11de0025-5c36-4ff2-d222-168555cd3a43"
      },
      "execution_count": null,
      "outputs": [
        {
          "output_type": "stream",
          "name": "stdout",
          "text": [
            "Epoch 1/10\n",
            "1563/1563 [==============================] - 8s 5ms/step - loss: 1.8153 - accuracy: 0.3532\n",
            "Epoch 2/10\n",
            "1563/1563 [==============================] - 7s 5ms/step - loss: 1.6249 - accuracy: 0.4250\n",
            "Epoch 3/10\n",
            "1563/1563 [==============================] - 8s 5ms/step - loss: 1.5429 - accuracy: 0.4534\n",
            "Epoch 4/10\n",
            "1563/1563 [==============================] - 7s 4ms/step - loss: 1.4844 - accuracy: 0.4768\n",
            "Epoch 5/10\n",
            "1563/1563 [==============================] - 7s 5ms/step - loss: 1.4318 - accuracy: 0.4970\n",
            "Epoch 6/10\n",
            "1563/1563 [==============================] - 7s 4ms/step - loss: 1.3883 - accuracy: 0.5125\n",
            "Epoch 7/10\n",
            "1563/1563 [==============================] - 7s 5ms/step - loss: 1.3507 - accuracy: 0.5252\n",
            "Epoch 8/10\n",
            "1563/1563 [==============================] - 7s 4ms/step - loss: 1.3143 - accuracy: 0.5388\n",
            "Epoch 9/10\n",
            "1563/1563 [==============================] - 7s 5ms/step - loss: 1.2841 - accuracy: 0.5496\n",
            "Epoch 10/10\n",
            "1563/1563 [==============================] - 7s 5ms/step - loss: 1.2539 - accuracy: 0.5584\n"
          ]
        },
        {
          "output_type": "execute_result",
          "data": {
            "text/plain": [
              "<keras.src.callbacks.History at 0x7cf388714e20>"
            ]
          },
          "metadata": {},
          "execution_count": 60
        }
      ]
    },
    {
      "cell_type": "code",
      "source": [
        "from sklearn.metrics import confusion_matrix , classification_report\n",
        "import numpy as np\n",
        "y_pred2 = ann2.predict(x_test)\n",
        "y_pred_classes2 = [np.argmax(element) for element in y_pred2]\n",
        "\n",
        "print(\"Classification Report: \\n\", classification_report(y_test, y_pred_classes2))"
      ],
      "metadata": {
        "colab": {
          "base_uri": "https://localhost:8080/"
        },
        "id": "K5JUt8qGtACg",
        "outputId": "fcd49888-2e2c-4c8e-a814-f7f03f001133"
      },
      "execution_count": null,
      "outputs": [
        {
          "output_type": "stream",
          "name": "stdout",
          "text": [
            "313/313 [==============================] - 1s 2ms/step\n",
            "Classification Report: \n",
            "               precision    recall  f1-score   support\n",
            "\n",
            "           0       0.50      0.69      0.58      1000\n",
            "           1       0.76      0.47      0.58      1000\n",
            "           2       0.46      0.32      0.37      1000\n",
            "           3       0.40      0.24      0.30      1000\n",
            "           4       0.41      0.53      0.46      1000\n",
            "           5       0.50      0.34      0.41      1000\n",
            "           6       0.62      0.51      0.56      1000\n",
            "           7       0.44      0.74      0.56      1000\n",
            "           8       0.64      0.61      0.63      1000\n",
            "           9       0.52      0.68      0.59      1000\n",
            "\n",
            "    accuracy                           0.51     10000\n",
            "   macro avg       0.53      0.51      0.50     10000\n",
            "weighted avg       0.53      0.51      0.50     10000\n",
            "\n"
          ]
        }
      ]
    },
    {
      "cell_type": "code",
      "source": [
        "ann2.evaluate(x_test,y_test)"
      ],
      "metadata": {
        "colab": {
          "base_uri": "https://localhost:8080/"
        },
        "id": "Rpf4f0xJ_SSt",
        "outputId": "835b2cb8-726b-4187-a954-5a6fe03eaa6e"
      },
      "execution_count": null,
      "outputs": [
        {
          "output_type": "stream",
          "name": "stdout",
          "text": [
            "313/313 [==============================] - 1s 3ms/step - loss: 1.3694 - accuracy: 0.5125\n"
          ]
        },
        {
          "output_type": "execute_result",
          "data": {
            "text/plain": [
              "[1.3694318532943726, 0.512499988079071]"
            ]
          },
          "metadata": {},
          "execution_count": 62
        }
      ]
    },
    {
      "cell_type": "markdown",
      "source": [
        "now although the ann work average, with pictures it is better to use cnn instead"
      ],
      "metadata": {
        "id": "rX6jAD3P9phk"
      }
    },
    {
      "cell_type": "code",
      "source": [
        "cnn = models.Sequential([\n",
        "    layers.Conv2D(filters=32, kernel_size=(3, 3), activation='relu', input_shape=(32, 32, 3)),#detects 32 diff features with 3,3 size\n",
        "    layers.MaxPooling2D((2, 2)),#Captures the most prominent features and reduces the dimensionality.\n",
        "\n",
        "    layers.Conv2D(filters=64, kernel_size=(3, 3), activation='relu'),#another layer of convolution\n",
        "    layers.MaxPooling2D((2, 2)),\n",
        "\n",
        "    layers.Flatten(),\n",
        "    layers.Dense(64, activation='relu'),\n",
        "    layers.Dense(10, activation='softmax')\n",
        "])"
      ],
      "metadata": {
        "id": "w7yzEklOvGFF"
      },
      "execution_count": null,
      "outputs": []
    },
    {
      "cell_type": "code",
      "source": [
        "cnn.compile(optimizer='adam',#Adaptive Moment Estimation, it changes learning rate as required\n",
        "              loss='sparse_categorical_crossentropy',\n",
        "              metrics=['accuracy'])"
      ],
      "metadata": {
        "id": "TVvnR9wZ-knW"
      },
      "execution_count": null,
      "outputs": []
    },
    {
      "cell_type": "code",
      "source": [
        "cnn.fit(x_train, y_train, epochs=10)"
      ],
      "metadata": {
        "colab": {
          "base_uri": "https://localhost:8080/"
        },
        "id": "KHP_Siuw-lES",
        "outputId": "0c0e6d02-32af-47e6-bfb5-dc5d26e1d762"
      },
      "execution_count": null,
      "outputs": [
        {
          "output_type": "stream",
          "name": "stdout",
          "text": [
            "Epoch 1/10\n",
            "1563/1563 [==============================] - 7s 4ms/step - loss: 1.5068 - accuracy: 0.4584\n",
            "Epoch 2/10\n",
            "1563/1563 [==============================] - 7s 4ms/step - loss: 1.1529 - accuracy: 0.5935\n",
            "Epoch 3/10\n",
            "1563/1563 [==============================] - 6s 4ms/step - loss: 1.0223 - accuracy: 0.6413\n",
            "Epoch 4/10\n",
            "1563/1563 [==============================] - 7s 4ms/step - loss: 0.9405 - accuracy: 0.6742\n",
            "Epoch 5/10\n",
            "1563/1563 [==============================] - 6s 4ms/step - loss: 0.8797 - accuracy: 0.6923\n",
            "Epoch 6/10\n",
            "1563/1563 [==============================] - 7s 4ms/step - loss: 0.8302 - accuracy: 0.7113\n",
            "Epoch 7/10\n",
            "1563/1563 [==============================] - 6s 4ms/step - loss: 0.7850 - accuracy: 0.7274\n",
            "Epoch 8/10\n",
            "1563/1563 [==============================] - 6s 4ms/step - loss: 0.7433 - accuracy: 0.7404\n",
            "Epoch 9/10\n",
            "1563/1563 [==============================] - 6s 4ms/step - loss: 0.7098 - accuracy: 0.7531\n",
            "Epoch 10/10\n",
            "1563/1563 [==============================] - 7s 4ms/step - loss: 0.6773 - accuracy: 0.7642\n"
          ]
        },
        {
          "output_type": "execute_result",
          "data": {
            "text/plain": [
              "<keras.src.callbacks.History at 0x7cf388772680>"
            ]
          },
          "metadata": {},
          "execution_count": 65
        }
      ]
    },
    {
      "cell_type": "code",
      "source": [
        "cnn.evaluate(x_test,y_test)"
      ],
      "metadata": {
        "colab": {
          "base_uri": "https://localhost:8080/"
        },
        "id": "whSfsuB5-pPL",
        "outputId": "feee02cf-264f-4605-d35c-80f420aed67d"
      },
      "execution_count": null,
      "outputs": [
        {
          "output_type": "stream",
          "name": "stdout",
          "text": [
            "313/313 [==============================] - 1s 4ms/step - loss: 0.9015 - accuracy: 0.6965\n"
          ]
        },
        {
          "output_type": "execute_result",
          "data": {
            "text/plain": [
              "[0.9015322327613831, 0.6965000033378601]"
            ]
          },
          "metadata": {},
          "execution_count": 66
        }
      ]
    },
    {
      "cell_type": "code",
      "source": [
        "plot_sample(x_test, y_test,3)\n",
        "plot_sample(x_test, y_test,9)\n",
        "plot_sample(x_test, y_test,2)\n",
        "plot_sample(x_test, y_test,53)"
      ],
      "metadata": {
        "colab": {
          "base_uri": "https://localhost:8080/",
          "height": 749
        },
        "id": "mIx9raNr_hTa",
        "outputId": "22c487b7-4ce7-4f54-dcb6-156436e06229"
      },
      "execution_count": null,
      "outputs": [
        {
          "output_type": "display_data",
          "data": {
            "text/plain": [
              "<Figure size 150x200 with 1 Axes>"
            ],
            "image/png": "[encoded data removed]"
          },
          "metadata": {}
        },
        {
          "output_type": "display_data",
          "data": {
            "text/plain": [
              "<Figure size 150x200 with 1 Axes>"
            ],
            "image/png": "[encoded data removed]"
          },
          "metadata": {}
        },
        {
          "output_type": "display_data",
          "data": {
            "text/plain": [
              "<Figure size 150x200 with 1 Axes>"
            ],
            "image/png": "[encoded data removed]"
          },
          "metadata": {}
        },
        {
          "output_type": "display_data",
          "data": {
            "text/plain": [
              "<Figure size 150x200 with 1 Axes>"
            ],
            "image/png": "[encoded data removed]"
          },
          "metadata": {}
        }
      ]
    },
    {
      "cell_type": "code",
      "source": [
        "y_pred = cnn.predict(x_test)\n",
        "y_pred[:5]"
      ],
      "metadata": {
        "colab": {
          "base_uri": "https://localhost:8080/"
        },
        "id": "QkAp3Yn4_D3N",
        "outputId": "c23bebb2-f762-4c22-eddd-da4d6b57e1b4"
      },
      "execution_count": null,
      "outputs": [
        {
          "output_type": "stream",
          "name": "stdout",
          "text": [
            "313/313 [==============================] - 1s 2ms/step\n"
          ]
        },
        {
          "output_type": "execute_result",
          "data": {
            "text/plain": [
              "array([[1.3213341e-04, 1.4906043e-04, 1.9894607e-04, 8.6754942e-01,\n",
              "        1.6089855e-03, 3.9620958e-02, 2.8848124e-03, 5.5894166e-06,\n",
              "        8.7633573e-02, 2.1649915e-04],\n",
              "       [5.2918709e-04, 3.8146588e-04, 1.4802475e-07, 1.2700180e-07,\n",
              "        4.5035580e-07, 1.3396057e-08, 4.4781334e-08, 3.2207061e-09,\n",
              "        9.9744922e-01, 1.6393944e-03],\n",
              "       [3.4450088e-02, 7.6359659e-02, 1.3635490e-03, 8.8286754e-03,\n",
              "        1.3331989e-03, 1.2216434e-03, 3.3589751e-03, 1.9446587e-03,\n",
              "        7.9917747e-01, 7.1962059e-02],\n",
              "       [8.2236159e-01, 1.7378904e-02, 3.3768065e-02, 4.9913772e-03,\n",
              "        3.0277845e-02, 1.4677042e-05, 5.0459532e-03, 4.9288756e-05,\n",
              "        8.5894480e-02, 2.1775630e-04],\n",
              "       [2.4340693e-06, 1.6568521e-05, 4.7258153e-03, 1.5055780e-01,\n",
              "        9.2281878e-02, 6.3943933e-03, 7.4594170e-01, 2.4818721e-07,\n",
              "        7.8765879e-05, 3.4653428e-07]], dtype=float32)"
            ]
          },
          "metadata": {},
          "execution_count": 68
        }
      ]
    },
    {
      "cell_type": "code",
      "source": [
        "y_classes = [np.argmax(element) for element in y_pred]\n",
        "y_classes[:5]"
      ],
      "metadata": {
        "colab": {
          "base_uri": "https://localhost:8080/"
        },
        "id": "hjDjK5TcAvvD",
        "outputId": "93d3c354-8bb2-4133-ad47-d18959ba1e88"
      },
      "execution_count": null,
      "outputs": [
        {
          "output_type": "execute_result",
          "data": {
            "text/plain": [
              "[3, 8, 8, 0, 6]"
            ]
          },
          "metadata": {},
          "execution_count": 69
        }
      ]
    },
    {
      "cell_type": "code",
      "source": [
        "print(\"Classification Report: \\n\", classification_report(y_test, y_classes))"
      ],
      "metadata": {
        "colab": {
          "base_uri": "https://localhost:8080/"
        },
        "id": "hrlbavtT_4SK",
        "outputId": "f9099eb2-b5ab-4e22-8801-a8e54e1d8e56"
      },
      "execution_count": null,
      "outputs": [
        {
          "output_type": "stream",
          "name": "stdout",
          "text": [
            "Classification Report: \n",
            "               precision    recall  f1-score   support\n",
            "\n",
            "           0       0.76      0.71      0.74      1000\n",
            "           1       0.80      0.83      0.81      1000\n",
            "           2       0.64      0.55      0.59      1000\n",
            "           3       0.50      0.49      0.49      1000\n",
            "           4       0.66      0.62      0.64      1000\n",
            "           5       0.53      0.71      0.61      1000\n",
            "           6       0.75      0.79      0.77      1000\n",
            "           7       0.82      0.67      0.74      1000\n",
            "           8       0.80      0.79      0.80      1000\n",
            "           9       0.77      0.79      0.78      1000\n",
            "\n",
            "    accuracy                           0.70     10000\n",
            "   macro avg       0.70      0.70      0.70     10000\n",
            "weighted avg       0.70      0.70      0.70     10000\n",
            "\n"
          ]
        }
      ]
    },
    {
      "cell_type": "markdown",
      "source": [
        "right predictions"
      ],
      "metadata": {
        "id": "i1fdhqr4E2wB"
      }
    },
    {
      "cell_type": "code",
      "source": [
        "plot_sample(x_test, y_test,21)\n",
        "plot_sample(x_test, y_test,22)\n",
        "plot_sample(x_test, y_test,23)"
      ],
      "metadata": {
        "colab": {
          "base_uri": "https://localhost:8080/",
          "height": 566
        },
        "id": "HHtwCKMnEyNn",
        "outputId": "e2adb095-c398-444d-fcc1-b4827d4f86e9"
      },
      "execution_count": null,
      "outputs": [
        {
          "output_type": "display_data",
          "data": {
            "text/plain": [
              "<Figure size 150x200 with 1 Axes>"
            ],
            "image/png": "[encoded data removed]"
          },
          "metadata": {}
        },
        {
          "output_type": "display_data",
          "data": {
            "text/plain": [
              "<Figure size 150x200 with 1 Axes>"
            ],
            "image/png": "[encoded data removed]"
          },
          "metadata": {}
        },
        {
          "output_type": "display_data",
          "data": {
            "text/plain": [
              "<Figure size 150x200 with 1 Axes>"
            ],
            "image/png": "[encoded data removed]"
          },
          "metadata": {}
        }
      ]
    },
    {
      "cell_type": "code",
      "source": [
        "print(classes[y_classes[21]])\n",
        "print(classes[y_classes[22]])\n",
        "print(classes[y_classes[23]])"
      ],
      "metadata": {
        "colab": {
          "base_uri": "https://localhost:8080/"
        },
        "id": "b87nw6pqEuMi",
        "outputId": "f8e12a08-ddd6-46cf-d062-dc7f47c798f0"
      },
      "execution_count": null,
      "outputs": [
        {
          "output_type": "stream",
          "name": "stdout",
          "text": [
            "airplane\n",
            "deer\n",
            "truck\n"
          ]
        }
      ]
    },
    {
      "cell_type": "markdown",
      "source": [
        "wrong predictions"
      ],
      "metadata": {
        "id": "aq4WZ3NQEoz1"
      }
    },
    {
      "cell_type": "code",
      "source": [
        "plot_sample(x_test, y_test,24)\n",
        "plot_sample(x_test, y_test,25)\n",
        "plot_sample(x_test, y_test,30)"
      ],
      "metadata": {
        "colab": {
          "base_uri": "https://localhost:8080/",
          "height": 566
        },
        "id": "rZKmeWc1CXR3",
        "outputId": "8e854927-cd3b-42a7-d89d-d2850a63a19b"
      },
      "execution_count": null,
      "outputs": [
        {
          "output_type": "display_data",
          "data": {
            "text/plain": [
              "<Figure size 150x200 with 1 Axes>"
            ],
            "image/png": "[encoded data removed]"
          },
          "metadata": {}
        },
        {
          "output_type": "display_data",
          "data": {
            "text/plain": [
              "<Figure size 150x200 with 1 Axes>"
            ],
            "image/png": "[encoded data removed]"
          },
          "metadata": {}
        },
        {
          "output_type": "display_data",
          "data": {
            "text/plain": [
              "<Figure size 150x200 with 1 Axes>"
            ],
            "image/png": "[encoded data removed]"
          },
          "metadata": {}
        }
      ]
    },
    {
      "cell_type": "code",
      "source": [
        "print(classes[y_classes[24]])\n",
        "print(classes[y_classes[25]])\n",
        "print(classes[y_classes[30]])"
      ],
      "metadata": {
        "colab": {
          "base_uri": "https://localhost:8080/"
        },
        "id": "CA0LOKavDUZ2",
        "outputId": "8067eb04-ac3a-412f-bf64-224665dd252d"
      },
      "execution_count": null,
      "outputs": [
        {
          "output_type": "stream",
          "name": "stdout",
          "text": [
            "deer\n",
            "cat\n",
            "cat\n"
          ]
        }
      ]
    }
  ]
}